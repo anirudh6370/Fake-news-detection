{
 "cells": [
  {
   "cell_type": "code",
   "execution_count": 1,
   "id": "2c416382",
   "metadata": {
    "execution": {
     "iopub.execute_input": "2024-02-13T19:39:41.956981Z",
     "iopub.status.busy": "2024-02-13T19:39:41.956459Z",
     "iopub.status.idle": "2024-02-13T19:39:59.135127Z",
     "shell.execute_reply": "2024-02-13T19:39:59.134225Z"
    },
    "papermill": {
     "duration": 17.189361,
     "end_time": "2024-02-13T19:39:59.137565",
     "exception": false,
     "start_time": "2024-02-13T19:39:41.948204",
     "status": "completed"
    },
    "tags": []
   },
   "outputs": [
    {
     "name": "stderr",
     "output_type": "stream",
     "text": [
      "2024-02-13 19:39:47.136006: E external/local_xla/xla/stream_executor/cuda/cuda_dnn.cc:9261] Unable to register cuDNN factory: Attempting to register factory for plugin cuDNN when one has already been registered\n",
      "2024-02-13 19:39:47.136114: E external/local_xla/xla/stream_executor/cuda/cuda_fft.cc:607] Unable to register cuFFT factory: Attempting to register factory for plugin cuFFT when one has already been registered\n",
      "2024-02-13 19:39:47.293784: E external/local_xla/xla/stream_executor/cuda/cuda_blas.cc:1515] Unable to register cuBLAS factory: Attempting to register factory for plugin cuBLAS when one has already been registered\n"
     ]
    },
    {
     "name": "stdout",
     "output_type": "stream",
     "text": [
      "[nltk_data] Downloading package punkt to /usr/share/nltk_data...\n",
      "[nltk_data]   Package punkt is already up-to-date!\n",
      "[nltk_data] Downloading package stopwords to /usr/share/nltk_data...\n",
      "[nltk_data]   Package stopwords is already up-to-date!\n",
      "[nltk_data] Downloading package wordnet to /usr/share/nltk_data...\n",
      "[nltk_data]   Package wordnet is already up-to-date!\n",
      "[nltk_data] Downloading package omw-1.4 to /usr/share/nltk_data...\n"
     ]
    },
    {
     "data": {
      "text/plain": [
       "True"
      ]
     },
     "execution_count": 1,
     "metadata": {},
     "output_type": "execute_result"
    }
   ],
   "source": [
    "import re\n",
    "import nltk\n",
    "import string\n",
    "import warnings\n",
    "import numpy as np\n",
    "import pandas as pd\n",
    "import seaborn as sns\n",
    "import matplotlib.pyplot as plt\n",
    "warnings.filterwarnings(\"ignore\")\n",
    "from nltk.corpus import stopwords\n",
    "from nltk.tokenize import word_tokenize\n",
    "from nltk.stem import WordNetLemmatizer\n",
    "from keras.preprocessing.text import Tokenizer\n",
    "from sklearn.model_selection import train_test_split\n",
    "from sklearn.ensemble import RandomForestClassifier\n",
    "nltk.download('punkt')\n",
    "nltk.download('stopwords')\n",
    "nltk.download('wordnet')\n",
    "\n",
    "nltk.download('omw-1.4')"
   ]
  },
  {
   "cell_type": "code",
   "execution_count": 2,
   "id": "e6c1d978",
   "metadata": {
    "execution": {
     "iopub.execute_input": "2024-02-13T19:39:59.157702Z",
     "iopub.status.busy": "2024-02-13T19:39:59.157129Z",
     "iopub.status.idle": "2024-02-13T19:40:00.307701Z",
     "shell.execute_reply": "2024-02-13T19:40:00.306903Z"
    },
    "papermill": {
     "duration": 1.162251,
     "end_time": "2024-02-13T19:40:00.310000",
     "exception": false,
     "start_time": "2024-02-13T19:39:59.147749",
     "status": "completed"
    },
    "tags": []
   },
   "outputs": [],
   "source": [
    "df1 = pd.read_csv(\"/kaggle/input/fake-news-detection/Fake.csv\")"
   ]
  },
  {
   "cell_type": "code",
   "execution_count": 3,
   "id": "20859486",
   "metadata": {
    "execution": {
     "iopub.execute_input": "2024-02-13T19:40:00.325436Z",
     "iopub.status.busy": "2024-02-13T19:40:00.324942Z",
     "iopub.status.idle": "2024-02-13T19:40:01.371952Z",
     "shell.execute_reply": "2024-02-13T19:40:01.370933Z"
    },
    "papermill": {
     "duration": 1.057212,
     "end_time": "2024-02-13T19:40:01.374347",
     "exception": false,
     "start_time": "2024-02-13T19:40:00.317135",
     "status": "completed"
    },
    "tags": []
   },
   "outputs": [],
   "source": [
    "df2 = pd.read_csv(\"/kaggle/input/fake-news-detection/True.csv\")"
   ]
  },
  {
   "cell_type": "code",
   "execution_count": 4,
   "id": "41bd01d1",
   "metadata": {
    "execution": {
     "iopub.execute_input": "2024-02-13T19:40:01.396774Z",
     "iopub.status.busy": "2024-02-13T19:40:01.396443Z",
     "iopub.status.idle": "2024-02-13T19:40:01.412116Z",
     "shell.execute_reply": "2024-02-13T19:40:01.411291Z"
    },
    "papermill": {
     "duration": 0.026076,
     "end_time": "2024-02-13T19:40:01.414098",
     "exception": false,
     "start_time": "2024-02-13T19:40:01.388022",
     "status": "completed"
    },
    "tags": []
   },
   "outputs": [
    {
     "data": {
      "text/html": [
       "<div>\n",
       "<style scoped>\n",
       "    .dataframe tbody tr th:only-of-type {\n",
       "        vertical-align: middle;\n",
       "    }\n",
       "\n",
       "    .dataframe tbody tr th {\n",
       "        vertical-align: top;\n",
       "    }\n",
       "\n",
       "    .dataframe thead th {\n",
       "        text-align: right;\n",
       "    }\n",
       "</style>\n",
       "<table border=\"1\" class=\"dataframe\">\n",
       "  <thead>\n",
       "    <tr style=\"text-align: right;\">\n",
       "      <th></th>\n",
       "      <th>title</th>\n",
       "      <th>text</th>\n",
       "      <th>subject</th>\n",
       "      <th>date</th>\n",
       "    </tr>\n",
       "  </thead>\n",
       "  <tbody>\n",
       "    <tr>\n",
       "      <th>0</th>\n",
       "      <td>Donald Trump Sends Out Embarrassing New Year’...</td>\n",
       "      <td>Donald Trump just couldn t wish all Americans ...</td>\n",
       "      <td>News</td>\n",
       "      <td>December 31, 2017</td>\n",
       "    </tr>\n",
       "    <tr>\n",
       "      <th>1</th>\n",
       "      <td>Drunk Bragging Trump Staffer Started Russian ...</td>\n",
       "      <td>House Intelligence Committee Chairman Devin Nu...</td>\n",
       "      <td>News</td>\n",
       "      <td>December 31, 2017</td>\n",
       "    </tr>\n",
       "    <tr>\n",
       "      <th>2</th>\n",
       "      <td>Sheriff David Clarke Becomes An Internet Joke...</td>\n",
       "      <td>On Friday, it was revealed that former Milwauk...</td>\n",
       "      <td>News</td>\n",
       "      <td>December 30, 2017</td>\n",
       "    </tr>\n",
       "    <tr>\n",
       "      <th>3</th>\n",
       "      <td>Trump Is So Obsessed He Even Has Obama’s Name...</td>\n",
       "      <td>On Christmas day, Donald Trump announced that ...</td>\n",
       "      <td>News</td>\n",
       "      <td>December 29, 2017</td>\n",
       "    </tr>\n",
       "    <tr>\n",
       "      <th>4</th>\n",
       "      <td>Pope Francis Just Called Out Donald Trump Dur...</td>\n",
       "      <td>Pope Francis used his annual Christmas Day mes...</td>\n",
       "      <td>News</td>\n",
       "      <td>December 25, 2017</td>\n",
       "    </tr>\n",
       "  </tbody>\n",
       "</table>\n",
       "</div>"
      ],
      "text/plain": [
       "                                               title  \\\n",
       "0   Donald Trump Sends Out Embarrassing New Year’...   \n",
       "1   Drunk Bragging Trump Staffer Started Russian ...   \n",
       "2   Sheriff David Clarke Becomes An Internet Joke...   \n",
       "3   Trump Is So Obsessed He Even Has Obama’s Name...   \n",
       "4   Pope Francis Just Called Out Donald Trump Dur...   \n",
       "\n",
       "                                                text subject  \\\n",
       "0  Donald Trump just couldn t wish all Americans ...    News   \n",
       "1  House Intelligence Committee Chairman Devin Nu...    News   \n",
       "2  On Friday, it was revealed that former Milwauk...    News   \n",
       "3  On Christmas day, Donald Trump announced that ...    News   \n",
       "4  Pope Francis used his annual Christmas Day mes...    News   \n",
       "\n",
       "                date  \n",
       "0  December 31, 2017  \n",
       "1  December 31, 2017  \n",
       "2  December 30, 2017  \n",
       "3  December 29, 2017  \n",
       "4  December 25, 2017  "
      ]
     },
     "execution_count": 4,
     "metadata": {},
     "output_type": "execute_result"
    }
   ],
   "source": [
    "df1.head()"
   ]
  },
  {
   "cell_type": "code",
   "execution_count": 5,
   "id": "ecf9c481",
   "metadata": {
    "execution": {
     "iopub.execute_input": "2024-02-13T19:40:01.430846Z",
     "iopub.status.busy": "2024-02-13T19:40:01.430373Z",
     "iopub.status.idle": "2024-02-13T19:40:01.439411Z",
     "shell.execute_reply": "2024-02-13T19:40:01.438644Z"
    },
    "papermill": {
     "duration": 0.020223,
     "end_time": "2024-02-13T19:40:01.441527",
     "exception": false,
     "start_time": "2024-02-13T19:40:01.421304",
     "status": "completed"
    },
    "tags": []
   },
   "outputs": [
    {
     "data": {
      "text/html": [
       "<div>\n",
       "<style scoped>\n",
       "    .dataframe tbody tr th:only-of-type {\n",
       "        vertical-align: middle;\n",
       "    }\n",
       "\n",
       "    .dataframe tbody tr th {\n",
       "        vertical-align: top;\n",
       "    }\n",
       "\n",
       "    .dataframe thead th {\n",
       "        text-align: right;\n",
       "    }\n",
       "</style>\n",
       "<table border=\"1\" class=\"dataframe\">\n",
       "  <thead>\n",
       "    <tr style=\"text-align: right;\">\n",
       "      <th></th>\n",
       "      <th>title</th>\n",
       "      <th>text</th>\n",
       "      <th>subject</th>\n",
       "      <th>date</th>\n",
       "    </tr>\n",
       "  </thead>\n",
       "  <tbody>\n",
       "    <tr>\n",
       "      <th>0</th>\n",
       "      <td>As U.S. budget fight looms, Republicans flip t...</td>\n",
       "      <td>WASHINGTON (Reuters) - The head of a conservat...</td>\n",
       "      <td>politicsNews</td>\n",
       "      <td>December 31, 2017</td>\n",
       "    </tr>\n",
       "    <tr>\n",
       "      <th>1</th>\n",
       "      <td>U.S. military to accept transgender recruits o...</td>\n",
       "      <td>WASHINGTON (Reuters) - Transgender people will...</td>\n",
       "      <td>politicsNews</td>\n",
       "      <td>December 29, 2017</td>\n",
       "    </tr>\n",
       "    <tr>\n",
       "      <th>2</th>\n",
       "      <td>Senior U.S. Republican senator: 'Let Mr. Muell...</td>\n",
       "      <td>WASHINGTON (Reuters) - The special counsel inv...</td>\n",
       "      <td>politicsNews</td>\n",
       "      <td>December 31, 2017</td>\n",
       "    </tr>\n",
       "    <tr>\n",
       "      <th>3</th>\n",
       "      <td>FBI Russia probe helped by Australian diplomat...</td>\n",
       "      <td>WASHINGTON (Reuters) - Trump campaign adviser ...</td>\n",
       "      <td>politicsNews</td>\n",
       "      <td>December 30, 2017</td>\n",
       "    </tr>\n",
       "    <tr>\n",
       "      <th>4</th>\n",
       "      <td>Trump wants Postal Service to charge 'much mor...</td>\n",
       "      <td>SEATTLE/WASHINGTON (Reuters) - President Donal...</td>\n",
       "      <td>politicsNews</td>\n",
       "      <td>December 29, 2017</td>\n",
       "    </tr>\n",
       "  </tbody>\n",
       "</table>\n",
       "</div>"
      ],
      "text/plain": [
       "                                               title  \\\n",
       "0  As U.S. budget fight looms, Republicans flip t...   \n",
       "1  U.S. military to accept transgender recruits o...   \n",
       "2  Senior U.S. Republican senator: 'Let Mr. Muell...   \n",
       "3  FBI Russia probe helped by Australian diplomat...   \n",
       "4  Trump wants Postal Service to charge 'much mor...   \n",
       "\n",
       "                                                text       subject  \\\n",
       "0  WASHINGTON (Reuters) - The head of a conservat...  politicsNews   \n",
       "1  WASHINGTON (Reuters) - Transgender people will...  politicsNews   \n",
       "2  WASHINGTON (Reuters) - The special counsel inv...  politicsNews   \n",
       "3  WASHINGTON (Reuters) - Trump campaign adviser ...  politicsNews   \n",
       "4  SEATTLE/WASHINGTON (Reuters) - President Donal...  politicsNews   \n",
       "\n",
       "                 date  \n",
       "0  December 31, 2017   \n",
       "1  December 29, 2017   \n",
       "2  December 31, 2017   \n",
       "3  December 30, 2017   \n",
       "4  December 29, 2017   "
      ]
     },
     "execution_count": 5,
     "metadata": {},
     "output_type": "execute_result"
    }
   ],
   "source": [
    "df2.head()"
   ]
  },
  {
   "cell_type": "code",
   "execution_count": 6,
   "id": "0cb5f696",
   "metadata": {
    "execution": {
     "iopub.execute_input": "2024-02-13T19:40:01.457156Z",
     "iopub.status.busy": "2024-02-13T19:40:01.456919Z",
     "iopub.status.idle": "2024-02-13T19:40:01.462628Z",
     "shell.execute_reply": "2024-02-13T19:40:01.461864Z"
    },
    "papermill": {
     "duration": 0.015498,
     "end_time": "2024-02-13T19:40:01.464377",
     "exception": false,
     "start_time": "2024-02-13T19:40:01.448879",
     "status": "completed"
    },
    "tags": []
   },
   "outputs": [],
   "source": [
    "df1[\"response\"] = 1"
   ]
  },
  {
   "cell_type": "code",
   "execution_count": 7,
   "id": "e0c2b2b6",
   "metadata": {
    "execution": {
     "iopub.execute_input": "2024-02-13T19:40:01.480194Z",
     "iopub.status.busy": "2024-02-13T19:40:01.479596Z",
     "iopub.status.idle": "2024-02-13T19:40:01.483674Z",
     "shell.execute_reply": "2024-02-13T19:40:01.482885Z"
    },
    "papermill": {
     "duration": 0.014047,
     "end_time": "2024-02-13T19:40:01.485600",
     "exception": false,
     "start_time": "2024-02-13T19:40:01.471553",
     "status": "completed"
    },
    "tags": []
   },
   "outputs": [],
   "source": [
    "df2[\"response\"] = 0"
   ]
  },
  {
   "cell_type": "code",
   "execution_count": 8,
   "id": "b047a8fd",
   "metadata": {
    "execution": {
     "iopub.execute_input": "2024-02-13T19:40:01.501118Z",
     "iopub.status.busy": "2024-02-13T19:40:01.500859Z",
     "iopub.status.idle": "2024-02-13T19:40:01.537530Z",
     "shell.execute_reply": "2024-02-13T19:40:01.536619Z"
    },
    "papermill": {
     "duration": 0.046492,
     "end_time": "2024-02-13T19:40:01.539378",
     "exception": false,
     "start_time": "2024-02-13T19:40:01.492886",
     "status": "completed"
    },
    "tags": []
   },
   "outputs": [
    {
     "name": "stdout",
     "output_type": "stream",
     "text": [
      "<class 'pandas.core.frame.DataFrame'>\n",
      "RangeIndex: 23481 entries, 0 to 23480\n",
      "Data columns (total 5 columns):\n",
      " #   Column    Non-Null Count  Dtype \n",
      "---  ------    --------------  ----- \n",
      " 0   title     23481 non-null  object\n",
      " 1   text      23481 non-null  object\n",
      " 2   subject   23481 non-null  object\n",
      " 3   date      23481 non-null  object\n",
      " 4   response  23481 non-null  int64 \n",
      "dtypes: int64(1), object(4)\n",
      "memory usage: 917.4+ KB\n"
     ]
    }
   ],
   "source": [
    "df1.info()"
   ]
  },
  {
   "cell_type": "code",
   "execution_count": 9,
   "id": "5e69b2d4",
   "metadata": {
    "execution": {
     "iopub.execute_input": "2024-02-13T19:40:01.556011Z",
     "iopub.status.busy": "2024-02-13T19:40:01.555751Z",
     "iopub.status.idle": "2024-02-13T19:40:01.573059Z",
     "shell.execute_reply": "2024-02-13T19:40:01.572156Z"
    },
    "papermill": {
     "duration": 0.028209,
     "end_time": "2024-02-13T19:40:01.574944",
     "exception": false,
     "start_time": "2024-02-13T19:40:01.546735",
     "status": "completed"
    },
    "tags": []
   },
   "outputs": [
    {
     "name": "stdout",
     "output_type": "stream",
     "text": [
      "<class 'pandas.core.frame.DataFrame'>\n",
      "RangeIndex: 21417 entries, 0 to 21416\n",
      "Data columns (total 5 columns):\n",
      " #   Column    Non-Null Count  Dtype \n",
      "---  ------    --------------  ----- \n",
      " 0   title     21417 non-null  object\n",
      " 1   text      21417 non-null  object\n",
      " 2   subject   21417 non-null  object\n",
      " 3   date      21417 non-null  object\n",
      " 4   response  21417 non-null  int64 \n",
      "dtypes: int64(1), object(4)\n",
      "memory usage: 836.7+ KB\n"
     ]
    }
   ],
   "source": [
    "df2.info()"
   ]
  },
  {
   "cell_type": "code",
   "execution_count": 10,
   "id": "43c3122d",
   "metadata": {
    "execution": {
     "iopub.execute_input": "2024-02-13T19:40:01.590751Z",
     "iopub.status.busy": "2024-02-13T19:40:01.590484Z",
     "iopub.status.idle": "2024-02-13T19:40:01.599400Z",
     "shell.execute_reply": "2024-02-13T19:40:01.598622Z"
    },
    "papermill": {
     "duration": 0.01892,
     "end_time": "2024-02-13T19:40:01.601263",
     "exception": false,
     "start_time": "2024-02-13T19:40:01.582343",
     "status": "completed"
    },
    "tags": []
   },
   "outputs": [],
   "source": [
    "df1.drop([\"title\",\"subject\",\"date\"],axis = 1,inplace = True)\n",
    "df2.drop([\"title\",\"subject\",\"date\"],axis = 1,inplace = True)"
   ]
  },
  {
   "cell_type": "code",
   "execution_count": 11,
   "id": "af71ac9f",
   "metadata": {
    "execution": {
     "iopub.execute_input": "2024-02-13T19:40:01.617650Z",
     "iopub.status.busy": "2024-02-13T19:40:01.616904Z",
     "iopub.status.idle": "2024-02-13T19:40:01.622041Z",
     "shell.execute_reply": "2024-02-13T19:40:01.621386Z"
    },
    "papermill": {
     "duration": 0.015204,
     "end_time": "2024-02-13T19:40:01.623921",
     "exception": false,
     "start_time": "2024-02-13T19:40:01.608717",
     "status": "completed"
    },
    "tags": []
   },
   "outputs": [],
   "source": [
    "merged_df = pd.concat([df1, df2], ignore_index=True)"
   ]
  },
  {
   "cell_type": "code",
   "execution_count": 12,
   "id": "8b29e97e",
   "metadata": {
    "execution": {
     "iopub.execute_input": "2024-02-13T19:40:01.639808Z",
     "iopub.status.busy": "2024-02-13T19:40:01.639529Z",
     "iopub.status.idle": "2024-02-13T19:40:01.648870Z",
     "shell.execute_reply": "2024-02-13T19:40:01.648036Z"
    },
    "papermill": {
     "duration": 0.019347,
     "end_time": "2024-02-13T19:40:01.650683",
     "exception": false,
     "start_time": "2024-02-13T19:40:01.631336",
     "status": "completed"
    },
    "tags": []
   },
   "outputs": [
    {
     "data": {
      "text/html": [
       "<div>\n",
       "<style scoped>\n",
       "    .dataframe tbody tr th:only-of-type {\n",
       "        vertical-align: middle;\n",
       "    }\n",
       "\n",
       "    .dataframe tbody tr th {\n",
       "        vertical-align: top;\n",
       "    }\n",
       "\n",
       "    .dataframe thead th {\n",
       "        text-align: right;\n",
       "    }\n",
       "</style>\n",
       "<table border=\"1\" class=\"dataframe\">\n",
       "  <thead>\n",
       "    <tr style=\"text-align: right;\">\n",
       "      <th></th>\n",
       "      <th>text</th>\n",
       "      <th>response</th>\n",
       "    </tr>\n",
       "  </thead>\n",
       "  <tbody>\n",
       "    <tr>\n",
       "      <th>0</th>\n",
       "      <td>Donald Trump just couldn t wish all Americans ...</td>\n",
       "      <td>1</td>\n",
       "    </tr>\n",
       "    <tr>\n",
       "      <th>1</th>\n",
       "      <td>House Intelligence Committee Chairman Devin Nu...</td>\n",
       "      <td>1</td>\n",
       "    </tr>\n",
       "    <tr>\n",
       "      <th>2</th>\n",
       "      <td>On Friday, it was revealed that former Milwauk...</td>\n",
       "      <td>1</td>\n",
       "    </tr>\n",
       "    <tr>\n",
       "      <th>3</th>\n",
       "      <td>On Christmas day, Donald Trump announced that ...</td>\n",
       "      <td>1</td>\n",
       "    </tr>\n",
       "    <tr>\n",
       "      <th>4</th>\n",
       "      <td>Pope Francis used his annual Christmas Day mes...</td>\n",
       "      <td>1</td>\n",
       "    </tr>\n",
       "    <tr>\n",
       "      <th>...</th>\n",
       "      <td>...</td>\n",
       "      <td>...</td>\n",
       "    </tr>\n",
       "    <tr>\n",
       "      <th>44893</th>\n",
       "      <td>BRUSSELS (Reuters) - NATO allies on Tuesday we...</td>\n",
       "      <td>0</td>\n",
       "    </tr>\n",
       "    <tr>\n",
       "      <th>44894</th>\n",
       "      <td>LONDON (Reuters) - LexisNexis, a provider of l...</td>\n",
       "      <td>0</td>\n",
       "    </tr>\n",
       "    <tr>\n",
       "      <th>44895</th>\n",
       "      <td>MINSK (Reuters) - In the shadow of disused Sov...</td>\n",
       "      <td>0</td>\n",
       "    </tr>\n",
       "    <tr>\n",
       "      <th>44896</th>\n",
       "      <td>MOSCOW (Reuters) - Vatican Secretary of State ...</td>\n",
       "      <td>0</td>\n",
       "    </tr>\n",
       "    <tr>\n",
       "      <th>44897</th>\n",
       "      <td>JAKARTA (Reuters) - Indonesia will buy 11 Sukh...</td>\n",
       "      <td>0</td>\n",
       "    </tr>\n",
       "  </tbody>\n",
       "</table>\n",
       "<p>44898 rows × 2 columns</p>\n",
       "</div>"
      ],
      "text/plain": [
       "                                                    text  response\n",
       "0      Donald Trump just couldn t wish all Americans ...         1\n",
       "1      House Intelligence Committee Chairman Devin Nu...         1\n",
       "2      On Friday, it was revealed that former Milwauk...         1\n",
       "3      On Christmas day, Donald Trump announced that ...         1\n",
       "4      Pope Francis used his annual Christmas Day mes...         1\n",
       "...                                                  ...       ...\n",
       "44893  BRUSSELS (Reuters) - NATO allies on Tuesday we...         0\n",
       "44894  LONDON (Reuters) - LexisNexis, a provider of l...         0\n",
       "44895  MINSK (Reuters) - In the shadow of disused Sov...         0\n",
       "44896  MOSCOW (Reuters) - Vatican Secretary of State ...         0\n",
       "44897  JAKARTA (Reuters) - Indonesia will buy 11 Sukh...         0\n",
       "\n",
       "[44898 rows x 2 columns]"
      ]
     },
     "execution_count": 12,
     "metadata": {},
     "output_type": "execute_result"
    }
   ],
   "source": [
    "merged_df"
   ]
  },
  {
   "cell_type": "code",
   "execution_count": 13,
   "id": "713e4aa0",
   "metadata": {
    "execution": {
     "iopub.execute_input": "2024-02-13T19:40:01.667040Z",
     "iopub.status.busy": "2024-02-13T19:40:01.666803Z",
     "iopub.status.idle": "2024-02-13T19:40:01.674332Z",
     "shell.execute_reply": "2024-02-13T19:40:01.673707Z"
    },
    "papermill": {
     "duration": 0.017863,
     "end_time": "2024-02-13T19:40:01.676204",
     "exception": false,
     "start_time": "2024-02-13T19:40:01.658341",
     "status": "completed"
    },
    "tags": []
   },
   "outputs": [],
   "source": [
    "df = merged_df.sample(frac=1,ignore_index=True)"
   ]
  },
  {
   "cell_type": "code",
   "execution_count": 14,
   "id": "f580e027",
   "metadata": {
    "execution": {
     "iopub.execute_input": "2024-02-13T19:40:01.692596Z",
     "iopub.status.busy": "2024-02-13T19:40:01.692161Z",
     "iopub.status.idle": "2024-02-13T19:40:01.701084Z",
     "shell.execute_reply": "2024-02-13T19:40:01.700038Z"
    },
    "papermill": {
     "duration": 0.019292,
     "end_time": "2024-02-13T19:40:01.703153",
     "exception": false,
     "start_time": "2024-02-13T19:40:01.683861",
     "status": "completed"
    },
    "tags": []
   },
   "outputs": [
    {
     "data": {
      "text/html": [
       "<div>\n",
       "<style scoped>\n",
       "    .dataframe tbody tr th:only-of-type {\n",
       "        vertical-align: middle;\n",
       "    }\n",
       "\n",
       "    .dataframe tbody tr th {\n",
       "        vertical-align: top;\n",
       "    }\n",
       "\n",
       "    .dataframe thead th {\n",
       "        text-align: right;\n",
       "    }\n",
       "</style>\n",
       "<table border=\"1\" class=\"dataframe\">\n",
       "  <thead>\n",
       "    <tr style=\"text-align: right;\">\n",
       "      <th></th>\n",
       "      <th>text</th>\n",
       "      <th>response</th>\n",
       "    </tr>\n",
       "  </thead>\n",
       "  <tbody>\n",
       "    <tr>\n",
       "      <th>0</th>\n",
       "      <td>WASHINGTON (Reuters) - U.S. President Donald T...</td>\n",
       "      <td>0</td>\n",
       "    </tr>\n",
       "    <tr>\n",
       "      <th>1</th>\n",
       "      <td>MADRID (Reuters) - Spanish Prime Minister Mari...</td>\n",
       "      <td>0</td>\n",
       "    </tr>\n",
       "    <tr>\n",
       "      <th>2</th>\n",
       "      <td>WASHINGTON (Reuters) - In late October, Presi...</td>\n",
       "      <td>0</td>\n",
       "    </tr>\n",
       "    <tr>\n",
       "      <th>3</th>\n",
       "      <td>PARIS (Reuters) - French businesses and foreig...</td>\n",
       "      <td>0</td>\n",
       "    </tr>\n",
       "    <tr>\n",
       "      <th>4</th>\n",
       "      <td>PARIS (Reuters) - Britain is becoming subservi...</td>\n",
       "      <td>0</td>\n",
       "    </tr>\n",
       "    <tr>\n",
       "      <th>...</th>\n",
       "      <td>...</td>\n",
       "      <td>...</td>\n",
       "    </tr>\n",
       "    <tr>\n",
       "      <th>44893</th>\n",
       "      <td>CNN recently broke the news that according to ...</td>\n",
       "      <td>1</td>\n",
       "    </tr>\n",
       "    <tr>\n",
       "      <th>44894</th>\n",
       "      <td>WASHINGTON (Reuters) - Democratic vice preside...</td>\n",
       "      <td>0</td>\n",
       "    </tr>\n",
       "    <tr>\n",
       "      <th>44895</th>\n",
       "      <td>Conservative commentator and devout Trump love...</td>\n",
       "      <td>1</td>\n",
       "    </tr>\n",
       "    <tr>\n",
       "      <th>44896</th>\n",
       "      <td>WASHINGTON (Reuters) - Vice President Joe Bide...</td>\n",
       "      <td>0</td>\n",
       "    </tr>\n",
       "    <tr>\n",
       "      <th>44897</th>\n",
       "      <td>NEW YORK (Reuters) - When lawyers for Donald T...</td>\n",
       "      <td>0</td>\n",
       "    </tr>\n",
       "  </tbody>\n",
       "</table>\n",
       "<p>44898 rows × 2 columns</p>\n",
       "</div>"
      ],
      "text/plain": [
       "                                                    text  response\n",
       "0      WASHINGTON (Reuters) - U.S. President Donald T...         0\n",
       "1      MADRID (Reuters) - Spanish Prime Minister Mari...         0\n",
       "2       WASHINGTON (Reuters) - In late October, Presi...         0\n",
       "3      PARIS (Reuters) - French businesses and foreig...         0\n",
       "4      PARIS (Reuters) - Britain is becoming subservi...         0\n",
       "...                                                  ...       ...\n",
       "44893  CNN recently broke the news that according to ...         1\n",
       "44894  WASHINGTON (Reuters) - Democratic vice preside...         0\n",
       "44895  Conservative commentator and devout Trump love...         1\n",
       "44896  WASHINGTON (Reuters) - Vice President Joe Bide...         0\n",
       "44897  NEW YORK (Reuters) - When lawyers for Donald T...         0\n",
       "\n",
       "[44898 rows x 2 columns]"
      ]
     },
     "execution_count": 14,
     "metadata": {},
     "output_type": "execute_result"
    }
   ],
   "source": [
    "df"
   ]
  },
  {
   "cell_type": "code",
   "execution_count": 15,
   "id": "88dfe476",
   "metadata": {
    "execution": {
     "iopub.execute_input": "2024-02-13T19:40:01.720236Z",
     "iopub.status.busy": "2024-02-13T19:40:01.719980Z",
     "iopub.status.idle": "2024-02-13T19:40:01.725642Z",
     "shell.execute_reply": "2024-02-13T19:40:01.724806Z"
    },
    "papermill": {
     "duration": 0.016197,
     "end_time": "2024-02-13T19:40:01.727535",
     "exception": false,
     "start_time": "2024-02-13T19:40:01.711338",
     "status": "completed"
    },
    "tags": []
   },
   "outputs": [],
   "source": [
    "def preprocess_text(text):\n",
    "    text = text.lower()\n",
    "    text = re.sub('\\[.*?\\]', '', text)\n",
    "    text = re.sub(\"\\\\W\",\" \",text) \n",
    "    text = re.sub('https?://\\S+|www\\.\\S+', '', text)\n",
    "    text = re.sub('<.*?>+', '', text)\n",
    "    text = re.sub('[%s]' % re.escape(string.punctuation), '', text)\n",
    "    text = re.sub('\\n', '', text)\n",
    "    text = re.sub('\\w*\\d\\w*', '', text)    \n",
    "    return text\n",
    "    \n",
    "    return preprocessed_text\n"
   ]
  },
  {
   "cell_type": "code",
   "execution_count": 16,
   "id": "033c76b6",
   "metadata": {
    "execution": {
     "iopub.execute_input": "2024-02-13T19:40:01.744538Z",
     "iopub.status.busy": "2024-02-13T19:40:01.744280Z",
     "iopub.status.idle": "2024-02-13T19:40:37.994874Z",
     "shell.execute_reply": "2024-02-13T19:40:37.994067Z"
    },
    "papermill": {
     "duration": 36.261659,
     "end_time": "2024-02-13T19:40:37.997101",
     "exception": false,
     "start_time": "2024-02-13T19:40:01.735442",
     "status": "completed"
    },
    "tags": []
   },
   "outputs": [],
   "source": [
    "df[\"text\"] = df[\"text\"].apply(preprocess_text)"
   ]
  },
  {
   "cell_type": "code",
   "execution_count": 17,
   "id": "c96d8b49",
   "metadata": {
    "execution": {
     "iopub.execute_input": "2024-02-13T19:40:38.014963Z",
     "iopub.status.busy": "2024-02-13T19:40:38.014657Z",
     "iopub.status.idle": "2024-02-13T19:40:38.018840Z",
     "shell.execute_reply": "2024-02-13T19:40:38.017993Z"
    },
    "papermill": {
     "duration": 0.015332,
     "end_time": "2024-02-13T19:40:38.020827",
     "exception": false,
     "start_time": "2024-02-13T19:40:38.005495",
     "status": "completed"
    },
    "tags": []
   },
   "outputs": [],
   "source": [
    "x = df[\"text\"]\n",
    "y = df[\"response\"]"
   ]
  },
  {
   "cell_type": "code",
   "execution_count": 18,
   "id": "935e9ea9",
   "metadata": {
    "execution": {
     "iopub.execute_input": "2024-02-13T19:40:38.037482Z",
     "iopub.status.busy": "2024-02-13T19:40:38.037208Z",
     "iopub.status.idle": "2024-02-13T19:40:38.049459Z",
     "shell.execute_reply": "2024-02-13T19:40:38.048654Z"
    },
    "papermill": {
     "duration": 0.022668,
     "end_time": "2024-02-13T19:40:38.051332",
     "exception": false,
     "start_time": "2024-02-13T19:40:38.028664",
     "status": "completed"
    },
    "tags": []
   },
   "outputs": [
    {
     "data": {
      "text/plain": [
       "((35918,), (35918,), (8980,), (8980,))"
      ]
     },
     "execution_count": 18,
     "metadata": {},
     "output_type": "execute_result"
    }
   ],
   "source": [
    "x_train, x_test, y_train, y_test = train_test_split(x, y, test_size=0.2, random_state=42)\n",
    "x_train.shape,y_train.shape,x_test.shape,y_test.shape"
   ]
  },
  {
   "cell_type": "code",
   "execution_count": 19,
   "id": "a67f1259",
   "metadata": {
    "execution": {
     "iopub.execute_input": "2024-02-13T19:40:38.068591Z",
     "iopub.status.busy": "2024-02-13T19:40:38.068333Z",
     "iopub.status.idle": "2024-02-13T19:40:59.230299Z",
     "shell.execute_reply": "2024-02-13T19:40:59.229479Z"
    },
    "papermill": {
     "duration": 21.173123,
     "end_time": "2024-02-13T19:40:59.232536",
     "exception": false,
     "start_time": "2024-02-13T19:40:38.059413",
     "status": "completed"
    },
    "tags": []
   },
   "outputs": [],
   "source": [
    "# Tokenize the text data\n",
    "max_words = 10000  #  Maximum number of words to consider\n",
    "tokenizer = Tokenizer(num_words=max_words)\n",
    "tokenizer.fit_on_texts(x_train)\n",
    "x_train_tokens = tokenizer.texts_to_sequences(x_train)\n",
    "x_test_tokens = tokenizer.texts_to_sequences(x_test)\n"
   ]
  },
  {
   "cell_type": "code",
   "execution_count": 20,
   "id": "736ff5a9",
   "metadata": {
    "execution": {
     "iopub.execute_input": "2024-02-13T19:40:59.250829Z",
     "iopub.status.busy": "2024-02-13T19:40:59.250234Z",
     "iopub.status.idle": "2024-02-13T19:40:59.254350Z",
     "shell.execute_reply": "2024-02-13T19:40:59.253497Z"
    },
    "papermill": {
     "duration": 0.015079,
     "end_time": "2024-02-13T19:40:59.256115",
     "exception": false,
     "start_time": "2024-02-13T19:40:59.241036",
     "status": "completed"
    },
    "tags": []
   },
   "outputs": [],
   "source": [
    "from sklearn.feature_extraction.text import TfidfVectorizer\n",
    "\n",
    "vectorization = TfidfVectorizer()"
   ]
  },
  {
   "cell_type": "code",
   "execution_count": 21,
   "id": "b1f0f72e",
   "metadata": {
    "execution": {
     "iopub.execute_input": "2024-02-13T19:40:59.273577Z",
     "iopub.status.busy": "2024-02-13T19:40:59.272894Z",
     "iopub.status.idle": "2024-02-13T19:41:16.624462Z",
     "shell.execute_reply": "2024-02-13T19:41:16.623344Z"
    },
    "papermill": {
     "duration": 17.362548,
     "end_time": "2024-02-13T19:41:16.626708",
     "exception": false,
     "start_time": "2024-02-13T19:40:59.264160",
     "status": "completed"
    },
    "tags": []
   },
   "outputs": [],
   "source": [
    "x_train = vectorization.fit_transform(x_train)\n",
    "x_test = vectorization.transform(x_test)"
   ]
  },
  {
   "cell_type": "code",
   "execution_count": 22,
   "id": "e53c2a8b",
   "metadata": {
    "execution": {
     "iopub.execute_input": "2024-02-13T19:41:16.644640Z",
     "iopub.status.busy": "2024-02-13T19:41:16.644317Z",
     "iopub.status.idle": "2024-02-13T19:41:19.793556Z",
     "shell.execute_reply": "2024-02-13T19:41:19.789919Z"
    },
    "papermill": {
     "duration": 3.161757,
     "end_time": "2024-02-13T19:41:19.796946",
     "exception": false,
     "start_time": "2024-02-13T19:41:16.635189",
     "status": "completed"
    },
    "tags": []
   },
   "outputs": [
    {
     "name": "stdout",
     "output_type": "stream",
     "text": [
      "Accuracy: 0.9871937639198218\n",
      "Classification Report:\n",
      "              precision    recall  f1-score   support\n",
      "\n",
      "           0       0.98      0.99      0.99      4271\n",
      "           1       0.99      0.98      0.99      4709\n",
      "\n",
      "    accuracy                           0.99      8980\n",
      "   macro avg       0.99      0.99      0.99      8980\n",
      "weighted avg       0.99      0.99      0.99      8980\n",
      "\n"
     ]
    }
   ],
   "source": [
    "from sklearn.linear_model import LogisticRegression\n",
    "from sklearn.metrics import accuracy_score,classification_report\n",
    "\n",
    "model = LogisticRegression()\n",
    "\n",
    "model.fit(x_train, y_train)\n",
    "\n",
    "y_pred_lr = model.predict(x_test)\n",
    "\n",
    "accuracy_lr = accuracy_score(y_test, y_pred_lr)\n",
    "\n",
    "print(\"Accuracy:\", accuracy_lr)\n",
    "print(\"Classification Report:\")\n",
    "print(classification_report(y_test, y_pred_lr))\n"
   ]
  },
  {
   "cell_type": "code",
   "execution_count": 23,
   "id": "9285cdb7",
   "metadata": {
    "execution": {
     "iopub.execute_input": "2024-02-13T19:41:19.834544Z",
     "iopub.status.busy": "2024-02-13T19:41:19.834052Z",
     "iopub.status.idle": "2024-02-13T19:42:25.628296Z",
     "shell.execute_reply": "2024-02-13T19:42:25.627364Z"
    },
    "papermill": {
     "duration": 65.823072,
     "end_time": "2024-02-13T19:42:25.638198",
     "exception": false,
     "start_time": "2024-02-13T19:41:19.815126",
     "status": "completed"
    },
    "tags": []
   },
   "outputs": [
    {
     "name": "stdout",
     "output_type": "stream",
     "text": [
      "Accuracy: 0.9909799554565701\n",
      "Classification Report:\n",
      "              precision    recall  f1-score   support\n",
      "\n",
      "           0       0.99      0.99      0.99      4271\n",
      "           1       0.99      0.99      0.99      4709\n",
      "\n",
      "    accuracy                           0.99      8980\n",
      "   macro avg       0.99      0.99      0.99      8980\n",
      "weighted avg       0.99      0.99      0.99      8980\n",
      "\n"
     ]
    }
   ],
   "source": [
    "rf_classifier = RandomForestClassifier()\n",
    "rf_classifier.fit(x_train, y_train)\n",
    "\n",
    "# Step 5: Evaluate classifier performance\n",
    "y_pred = rf_classifier.predict(x_test)\n",
    "accuracy = accuracy_score(y_test, y_pred)\n",
    "print(\"Accuracy:\", accuracy)\n",
    "print(\"Classification Report:\")\n",
    "print(classification_report(y_test, y_pred))"
   ]
  },
  {
   "cell_type": "code",
   "execution_count": 24,
   "id": "e1d120ab",
   "metadata": {
    "execution": {
     "iopub.execute_input": "2024-02-13T19:42:25.656068Z",
     "iopub.status.busy": "2024-02-13T19:42:25.655772Z",
     "iopub.status.idle": "2024-02-13T19:42:25.802482Z",
     "shell.execute_reply": "2024-02-13T19:42:25.801647Z"
    },
    "papermill": {
     "duration": 0.157784,
     "end_time": "2024-02-13T19:42:25.804417",
     "exception": false,
     "start_time": "2024-02-13T19:42:25.646633",
     "status": "completed"
    },
    "tags": []
   },
   "outputs": [
    {
     "data": {
      "image/png": "[encoded data removed]",
      "text/plain": [
       "<Figure size 800x600 with 1 Axes>"
      ]
     },
     "metadata": {},
     "output_type": "display_data"
    }
   ],
   "source": [
    "from sklearn.metrics import confusion_matrix\n",
    "\n",
    "cm = confusion_matrix(y_test, y_pred)\n",
    "\n",
    "# Plot confusion matrix\n",
    "plt.figure(figsize=(8, 6))\n",
    "sns.heatmap(cm, annot=True, fmt='d', cmap='Blues', cbar=False, \n",
    "            xticklabels=rf_classifier.classes_, yticklabels=rf_classifier.classes_)\n",
    "plt.xlabel('Predicted')\n",
    "plt.ylabel('True')\n",
    "plt.title('Confusion Matrix')\n",
    "plt.show()"
   ]
  },
  {
   "cell_type": "code",
   "execution_count": null,
   "id": "ccf31dcc",
   "metadata": {
    "papermill": {
     "duration": 0.008432,
     "end_time": "2024-02-13T19:42:25.821579",
     "exception": false,
     "start_time": "2024-02-13T19:42:25.813147",
     "status": "completed"
    },
    "tags": []
   },
   "outputs": [],
   "source": []
  }
 ],
 "metadata": {
  "kaggle": {
   "accelerator": "nvidiaTeslaT4",
   "dataSources": [
    {
     "datasetId": 890123,
     "sourceId": 1510812,
     "sourceType": "datasetVersion"
    }
   ],
   "dockerImageVersionId": 30648,
   "isGpuEnabled": true,
   "isInternetEnabled": true,
   "language": "python",
   "sourceType": "notebook"
  },
  "kernelspec": {
   "display_name": "Python 3",
   "language": "python",
   "name": "python3"
  },
  "language_info": {
   "codemirror_mode": {
    "name": "ipython",
    "version": 3
   },
   "file_extension": ".py",
   "mimetype": "text/x-python",
   "name": "python",
   "nbconvert_exporter": "python",
   "pygments_lexer": "ipython3",
   "version": "3.10.13"
  },
  "papermill": {
   "default_parameters": {},
   "duration": 169.390308,
   "end_time": "2024-02-13T19:42:28.407650",
   "environment_variables": {},
   "exception": null,
   "input_path": "__notebook__.ipynb",
   "output_path": "__notebook__.ipynb",
   "parameters": {},
   "start_time": "2024-02-13T19:39:39.017342",
   "version": "2.5.0"
  }
 },
 "nbformat": 4,
 "nbformat_minor": 5
}
